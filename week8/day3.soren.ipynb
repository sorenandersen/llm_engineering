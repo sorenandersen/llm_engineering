{
 "cells": [
  {
   "cell_type": "markdown",
   "id": "0df0d850-49eb-4a0b-a27a-146969db710d",
   "metadata": {},
   "source": [
    "# The Price is Right\n",
    "\n",
    "Today we'll build another piece of the puzzle: a ScanningAgent that looks for promising deals by subscribing to RSS feeds."
   ]
  },
  {
   "cell_type": "code",
   "execution_count": 2,
   "id": "d3763a79-8a5a-4300-8de4-93e85475af10",
   "metadata": {},
   "outputs": [],
   "source": [
    "# imports\n",
    "\n",
    "import os\n",
    "import json\n",
    "from dotenv import load_dotenv\n",
    "from openai import AzureOpenAI\n",
    "from agents.deals import ScrapedDeal, DealSelection"
   ]
  },
  {
   "cell_type": "code",
   "execution_count": 3,
   "id": "c6469e32-16c3-4443-9475-ade710ef6933",
   "metadata": {},
   "outputs": [],
   "source": [
    "# Initialize and constants\n",
    "\n",
    "load_dotenv()\n",
    "os.environ['OPENAI_API_KEY'] = os.getenv('OPENAI_API_KEY', 'your-key-if-not-using-env')\n",
    "MODEL = os.getenv(\"AZURE_OPENAI_MODEL_DEPLOYMENT_NAME\") # gpt-4o-mini\n",
    "openai = AzureOpenAI(\n",
    "    azure_endpoint=os.getenv(\"AZURE_OPENAI_ENDPOINT\"),\n",
    "    api_key=os.getenv(\"AZURE_OPENAI_API_KEY\"),\n",
    "    api_version=os.getenv(\"AZURE_OPENAI_API_VERSION\")\n",
    ")"
   ]
  },
  {
   "cell_type": "code",
   "execution_count": 4,
   "id": "afece9db-8cd4-46be-ac57-0b472e84da7d",
   "metadata": {},
   "outputs": [
    {
     "name": "stderr",
     "output_type": "stream",
     "text": [
      "100%|██████████| 5/5 [06:33<00:00, 78.61s/it]\n"
     ]
    }
   ],
   "source": [
    "deals = ScrapedDeal.fetch(show_progress=True)"
   ]
  },
  {
   "cell_type": "code",
   "execution_count": 5,
   "id": "8cd15c4d-eb44-4601-bf0c-f945c1d8e3ec",
   "metadata": {},
   "outputs": [
    {
     "data": {
      "text/plain": [
       "50"
      ]
     },
     "execution_count": 5,
     "metadata": {},
     "output_type": "execute_result"
    }
   ],
   "source": [
    "len(deals)"
   ]
  },
  {
   "cell_type": "code",
   "execution_count": 6,
   "id": "4259f30a-6455-49ed-8863-2f9ddd4776cb",
   "metadata": {},
   "outputs": [
    {
     "data": {
      "text/plain": [
       "\"Title: DeWalt 20V Lithium-ion Battery 2-Pack for $69 + free shipping\\nDetails: It's the best price we could find by $50. Buy Now at Lowe's\\nFeatures: \\nURL: https://www.dealnews.com/products/De-Walt/De-Walt-20-V-Lithium-ion-Battery-2-Pack/485597.html?iref=rss-c196\""
      ]
     },
     "execution_count": 6,
     "metadata": {},
     "output_type": "execute_result"
    }
   ],
   "source": [
    "deals[44].describe()"
   ]
  },
  {
   "cell_type": "code",
   "execution_count": 7,
   "id": "8100e5ac-38f5-40c1-a712-08ae12c85038",
   "metadata": {},
   "outputs": [],
   "source": [
    "system_prompt = \"\"\"You identify and summarize the 5 most detailed deals from a list, by selecting deals that have the most detailed, high quality description and the most clear price.\n",
    "Respond strictly in JSON with no explanation, using this format. You should provide the price as a number derived from the description. If the price of a deal isn't clear, do not include that deal in your response.\n",
    "Most important is that you respond with the 5 deals that have the most detailed product description with price. It's not important to mention the terms of the deal; most important is a thorough description of the product.\n",
    "Be careful with products that are described as \"$XXX off\" or \"reduced by $XXX\" - this isn't the actual price of the product. Only respond with products when you are highly confident about the price. \n",
    "\n",
    "{\"deals\": [\n",
    "    {\n",
    "        \"product_description\": \"Your clearly expressed summary of the product in 4-5 sentences. Details of the item are much more important than why it's a good deal. Avoid mentioning discounts and coupons; focus on the item itself. There should be a paragpraph of text for each item you choose.\",\n",
    "        \"price\": 99.99,\n",
    "        \"url\": \"the url as provided\"\n",
    "    },\n",
    "    ...\n",
    "]}\"\"\""
   ]
  },
  {
   "cell_type": "code",
   "execution_count": 8,
   "id": "f4bca170-af71-40c9-9597-1d72980c74d8",
   "metadata": {},
   "outputs": [],
   "source": [
    "user_prompt = \"\"\"Respond with the most promising 5 deals from this list, selecting those which have the most detailed, high quality product description and a clear price.\n",
    "Respond strictly in JSON, and only JSON. You should rephrase the description to be a summary of the product itself, not the terms of the deal.\n",
    "Remember to respond with a paragraph of text in the product_description field for each of the 5 items that you select.\n",
    "Be careful with products that are described as \"$XXX off\" or \"reduced by $XXX\" - this isn't the actual price of the product. Only respond with products when you are highly confident about the price. \n",
    "\n",
    "Deals:\n",
    "\n",
    "\"\"\"\n",
    "user_prompt += '\\n\\n'.join([deal.describe() for deal in deals])"
   ]
  },
  {
   "cell_type": "code",
   "execution_count": 9,
   "id": "020947a6-561b-417b-98a0-a085e31d2ce3",
   "metadata": {},
   "outputs": [
    {
     "name": "stdout",
     "output_type": "stream",
     "text": [
      "Respond with the most promising 5 deals from this list, selecting those which have the most detailed, high quality product description and a clear price.\n",
      "Respond strictly in JSON, and only JSON. You should rephrase the description to be a summary of the product itself, not the terms of the deal.\n",
      "Remember to respond with a paragraph of text in the product_description field for each of the 5 items that you select.\n",
      "Be careful with products that are described as \"$XXX off\" or \"reduced by $XXX\" - this isn't the actual price of the product. Only respond with products when you are highly confident about the price. \n",
      "\n",
      "Deals:\n",
      "\n",
      "Title: Samsung S90D Series QN42S90DAEXZA 42\" 4K HDR 144Hz OLED Smart TV for $1,100 + free shipping\n",
      "Details: That's $300 off, and the best price we could find for this OLED TV. Buy Now at Samsung\n",
      "Features: 3840x2160 (4K) native resolution OLED HDR 144Hz refresh rate w/ AMD FreeSync Tizen smart OS 4 HDMI inputs Model: QN42S90DAEXZA\n",
      "URL: https://www.dealnews.com/products/Samsung/Samsung-S90-D-Series-QN42-S90-DAEXZA-42-4-K-HDR-144-Hz-OLED-Smart-TV/485596.html?iref=rss-c142\n",
      "\n",
      "Title: Home Theater Deals at Adorama: Up to 61% off\n",
      "Details: You'll find a ton of different home theater items in this sale, including speakers, receivers, sound bars, subwoofers, and more. Not interested in a full home theater system? The sale also includes a variety of portable Bluetooth speakers, like the pictured Sony SRS-XG300 X-Series Portable Bluetooth Speaker in Black for $148 (57% off). Shop Now at Adorama\n",
      "Features: \n",
      "URL: https://www.dealnews.com/Home-Theater-Deals-at-Adorama-Up-to-61-off/21706662.html?iref=rss-c142\n",
      "\n",
      "Title: Camera Lens Deals at Adorama: Up to 77% off\n",
      "Details: Expand your camera's capabilities with a selection of new lenses and save while you're at it! Shipping varies, so you'll have to add items to your cart to see what kind of charges you'll incur. Pictured is the Lensbaby Velvet 85 85mm f/1.8 Lens for Micro Four Thirds in Silver for $299.95 (50% off). Shop Now\n"
     ]
    }
   ],
   "source": [
    "print(user_prompt[:2000])"
   ]
  },
  {
   "cell_type": "code",
   "execution_count": 10,
   "id": "7de46f74-868c-4127-8a68-cf2da7d600bb",
   "metadata": {},
   "outputs": [],
   "source": [
    "def get_recommendations():\n",
    "    completion = openai.beta.chat.completions.parse(\n",
    "        model=MODEL,\n",
    "        messages=[\n",
    "            {\"role\": \"system\", \"content\": system_prompt},\n",
    "            {\"role\": \"user\", \"content\": user_prompt}\n",
    "      ],\n",
    "        response_format=DealSelection\n",
    "    )\n",
    "    result = completion.choices[0].message.parsed\n",
    "    return result"
   ]
  },
  {
   "cell_type": "code",
   "execution_count": 11,
   "id": "4c06270d-8c17-4d5a-9cfe-b6cefe788d5e",
   "metadata": {},
   "outputs": [],
   "source": [
    "result = get_recommendations()"
   ]
  },
  {
   "cell_type": "code",
   "execution_count": 12,
   "id": "84e62845-3338-441a-8161-c70097af4773",
   "metadata": {},
   "outputs": [
    {
     "data": {
      "text/plain": [
       "5"
      ]
     },
     "execution_count": 12,
     "metadata": {},
     "output_type": "execute_result"
    }
   ],
   "source": [
    "len(result.deals)"
   ]
  },
  {
   "cell_type": "code",
   "execution_count": 13,
   "id": "e5554a0a-ae40-4684-ad3e-faa3d22e030c",
   "metadata": {},
   "outputs": [
    {
     "data": {
      "text/plain": [
       "Deal(product_description='The Samsung S90D Series QN42S90DAEXZA is a 42-inch OLED Smart TV that boasts a stunning 4K HDR resolution of 3840x2160, ensuring that every detail comes alive with vibrant colors and deep contrasts. It features a rapid 144Hz refresh rate, making it an ideal choice for fast-paced gaming and action-packed movies. This television runs on the Tizen smart OS, providing seamless access to streaming platforms and smart apps. With four HDMI inputs, connecting your devices is hassle-free.', price=1100.0, url='https://www.dealnews.com/products/Samsung/Samsung-S90-D-Series-QN42-S90-DAEXZA-42-4-K-HDR-144-Hz-OLED-Smart-TV/485596.html?iref=rss-c142')"
      ]
     },
     "execution_count": 13,
     "metadata": {},
     "output_type": "execute_result"
    }
   ],
   "source": [
    "result.deals[0]"
   ]
  },
  {
   "cell_type": "code",
   "execution_count": 14,
   "id": "8bdc57fb-7497-47af-a643-6ba5a21cc17e",
   "metadata": {},
   "outputs": [],
   "source": [
    "from agents.scanner_agent_az import ScannerAgent"
   ]
  },
  {
   "cell_type": "code",
   "execution_count": 15,
   "id": "132278bc-217a-43a6-b6c4-724140c6a225",
   "metadata": {},
   "outputs": [],
   "source": [
    "agent = ScannerAgent()\n",
    "result = agent.scan()"
   ]
  },
  {
   "cell_type": "code",
   "execution_count": 16,
   "id": "2e1d013a-c930-4dad-901b-41433379e14b",
   "metadata": {},
   "outputs": [
    {
     "data": {
      "text/plain": [
       "DealSelection(deals=[Deal(product_description='The Samsung S90D Series QN42S90DAEXZA is a state-of-the-art 42\" 4K HDR OLED Smart TV that offers breathtaking picture quality with its high dynamic range capabilities and an ultra-smooth 144Hz refresh rate. It features 3840x2160 native resolution, making it perfect for enjoying your favorite movies and games in stunning detail. Equipped with Tizen smart OS, users can easily access a multitude of streaming services and apps. The TV has four HDMI inputs, allowing for easy connectivity with various devices, ensuring an immersive viewing experience.', price=1100.0, url='https://www.dealnews.com/products/Samsung/Samsung-S90-D-Series-QN42-S90-DAEXZA-42-4-K-HDR-144-Hz-OLED-Smart-TV/485596.html?iref=rss-c142'), Deal(product_description='The Lensbaby Velvet 85 is a remarkable 85mm f/1.8 lens designed for Micro Four Thirds cameras, ideal for photographers looking to expand their creative toolkit. Its unique design allows for deliciously soft focus effects and beautiful bokeh while maintaining sharpness at the center, making it perfect for portraits and artistic photography. The lens features a refined build quality and exceptional optical performance, appealing to both amateurs and seasoned professionals. This model, adorned in a sleek silver finish, is not only functional but also aesthetically pleasing.', price=299.95, url='https://www.dealnews.com/Camera-Lens-Deals-at-Adorama-Up-to-77-off/21706659.html?iref=rss-c142'), Deal(product_description=\"The Fossil Men's Gen 6 44mm Wellness Smartwatch is a versatile timepiece that seamlessly blends technology with style. Featuring a robust set of health tracking capabilities, it comes equipped with an activity tracker, distance tracking, GPS, sleep monitoring, and an always-on display, providing users with essential health insights directly from their wrist. Compatible with Wear OS by Google and Alexa, the watch allows for easy notifications and app downloads. The watch is designed with a mineral crystal for enhanced durability, making it an essential accessory for any modern man.\", price=50.0, url='https://www.dealnews.com/products/Fossil/Fossil-Mens-Gen-6-44-mm-Wellness-Smartwatch/484830.html?iref=rss-c142'), Deal(product_description='The LG UT70 is a cutting-edge 65\" 4K HDR LED UHD AI Smart TV that brings your entertainment to life with its stunning 4K resolution and HDR 10 capabilities. It features advanced AI technology for optimized picture quality and supports a wide range of content, including compatibility with Alexa and Google Assistant for smart home integration. With webOS and three HDMI inputs, it provides convenient access to your favorite streaming services and devices. This model not only enhances your viewing experience but also fits beautifully into any modern living space.', price=380.0, url='https://www.dealnews.com/products/LG/LG-UT70-65-4-K-HDR-LED-UHD-AI-Smart-TV/484680.html?iref=rss-c142'), Deal(product_description='The Samsung Odyssey G9 is an exceptional 49\" curved gaming monitor boasting a 1440p resolution and a blistering 240Hz refresh rate, reinforced by AMD FreeSync technology for ultra-smooth gaming experiences. The generous screen real estate and HDR capabilities ensure vibrant colors and deep blacks, perfect for immersive gaming or productivity tasks. The monitor includes a free Samsung 990 PRO 2TB internal SSD, adding incredible value for storage solutions. With its sleek design and high performance, this monitor is a perfect addition to any gaming setup.', price=850.0, url='https://www.dealnews.com/Samsung-Odyssey-G9-49-1440-p-HDR-240-Hz-AMD-Free-Sync-Curved-Monitor-2023-for-850-free-Samsung-990-PRO-2-TB-Internal-SSD-free-shipping/21706425.html?iref=rss-c39')])"
      ]
     },
     "execution_count": 16,
     "metadata": {},
     "output_type": "execute_result"
    }
   ],
   "source": [
    "result"
   ]
  },
  {
   "cell_type": "code",
   "execution_count": null,
   "id": "5ee2e837-1f1d-42d4-8bc4-51cccc343006",
   "metadata": {},
   "outputs": [],
   "source": []
  }
 ],
 "metadata": {
  "kernelspec": {
   "display_name": ".venv",
   "language": "python",
   "name": "python3"
  },
  "language_info": {
   "codemirror_mode": {
    "name": "ipython",
    "version": 3
   },
   "file_extension": ".py",
   "mimetype": "text/x-python",
   "name": "python",
   "nbconvert_exporter": "python",
   "pygments_lexer": "ipython3",
   "version": "3.11.10"
  }
 },
 "nbformat": 4,
 "nbformat_minor": 5
}
